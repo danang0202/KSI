{
  "nbformat": 4,
  "nbformat_minor": 0,
  "metadata": {
    "colab": {
      "provenance": []
    },
    "kernelspec": {
      "name": "python3",
      "display_name": "Python 3"
    },
    "language_info": {
      "name": "python"
    }
  },
  "cells": [
    {
      "cell_type": "code",
      "execution_count": 5,
      "metadata": {
        "colab": {
          "base_uri": "https://localhost:8080/"
        },
        "id": "Yu0XwSVRfbbo",
        "outputId": "048550c6-2fea-40e8-9448-7dcf68611119"
      },
      "outputs": [
        {
          "output_type": "stream",
          "name": "stdout",
          "text": [
            "Masukkan Pesan : SALJNAAETAA  NL MNLMAM,GUAMA APK\n",
            "Masukkan Kunci [2-31]: 5\n",
            "Enkripsi/Dekripsi [1/2]: 2\n",
            "\n",
            "Hasil : \n",
            "SELAMAT MALAM, JANGAN LUPA MAKAN|\n"
          ]
        }
      ],
      "source": [
        "## PROGRAM TRANSPOSITION CHIPER\n",
        "\n",
        "import math\n",
        "\n",
        "def main():\n",
        "  text = input(\"Masukkan Pesan : \")                               # Menerima inputan pesan dari pengguna\n",
        "  key = int(input(\"Masukkan Kunci [2-%s]: \" % (len(text) -1)))    # Menerima inputan kunci dari pengguna, dengan memberikan permintan bahwa kuncih harus di antara rentang karena jika tidak berada rentang, maka sama saja pesan tidak dienkripsi\n",
        "  if( key < 2) or (key > len(text) -1):                           # Memeriksa apakah kunci sesuai dengan rentang\n",
        "    print(\"\\nWARNING : Silahkan masukkan kunci dalam rentang !\")  # Memberikan pesan error karena kunci tidak sesuai dengan rentang\n",
        "  else :\n",
        "    mode = input(\"Enkripsi/Dekripsi [1/2]: \")                     # Menerima input jenis tindakan yang akan dilakukan pengguna\n",
        "    if(mode.lower() == \"1\"):\n",
        "      result = encryptionMessage(key, text)                       # Memanggil fungsi untuk enkripsi\n",
        "    elif (mode.lower() == \"2\"):\n",
        "      result = decrypteMessage(key, text)                         # Memanggil fungsi untuk dekripsi\n",
        "    print (\"\\nHasil : \\n%s\" % (result + \"|\"))                     # Menampilkan hasil dari enkripsi atau dekripsi, ditambahkan karakter | pada akhir string untuk melihat apakah terdapat spasi di paling belakang\n",
        "\n",
        "\n",
        "def encryptionMessage(key, message):                              # Mendefinisikan fungsi enkripsi\n",
        "  chiperText = [\"\"] * key                                         # Menyiapkan array untuk menyimpan hasil enkripsi, dimana array nya sebanyak kunci (Untuk setiap array akan menyimpan huruf dalam satu kolom)\n",
        "  for col in range(key):                                          # Melakuakn perulangan dari 0 sampai dengan key (key akan menentukan berapa jumlah kolom)\n",
        "    pointer = col                                                 # Inisiasi pointer\n",
        "    while pointer < len(message):                                 # Ketika pointer masih dalam rentang panjagn pesan,\n",
        "      chiperText[col] += message[pointer]                         # maka pesan akan diambil dan disimpan dalam array dari kolom yang bersankutan\n",
        "      pointer += key                                              # Pointer bergerak dalam kelipatan key\n",
        "  return \"\".join(chiperText)                                      # Menggabungkan huruf dari setiap  array yang terbentuk\n",
        "\n",
        "def decrypteMessage(key, message):                                # Mendefinisikan fungsi dekripsi\n",
        "  numCols = math.ceil(len(message) / key)                         # Menentukan jumlah kolum dimana merupakan pembulatan ke atas dari panajang pesan di bagi key\n",
        "  numRows = key                                                   # Inisiasi jumlah baris sebanyak key\n",
        "  numShadedBoxes  = (numCols * numRows) - len(message)            # Menentukan jumlah sel yang akan kosong\n",
        "  plainText = [\"\"] * numCols                                      # Inisasi array sebanyak kolum  untuk menyimpan hasil dekripsi\n",
        "  col = 0                                                         # Inisasi awal col dan row, dari 0\n",
        "  row = 0\n",
        "  for karakter in message:                                        # Untuk setiap karakter di teks\n",
        "    plainText[col] += karakter                                    # Karakter akan disusun ke samping dalam tabel\n",
        "    col += 1\n",
        "\n",
        "    if(col == numCols) or (col == numCols -1) and (row >= numRows - numShadedBoxes):\n",
        "      col = 0   # apabila kolum sudah sampai ujung, atau sudah sampai pada kolom yang seharusnya tidak terisi, maka akan berpindah ke baris berikutnya\n",
        "      row += 1\n",
        "  return \"\".join(plainText)                                      # Menggabungkan huruf dari setiap  array yang terbentuk\n",
        "\n",
        "main()                                                           # Memangil fungsi main\n",
        "\n"
      ]
    },
    {
      "cell_type": "markdown",
      "source": [
        "Program di atas merupakan rogram enkripsi dan deskripsi untuk transposition (Matrix baris dan kolumn). Adapun cara kerja dari algoritma di atas adalah sebagai berikut :\n",
        "1.   Algoritrma Enkripsi\n",
        "\n",
        "      *   Key akan menjadi jumlah kolumn\n",
        "      *   Menyiapkan array sebanyak kolumn\n",
        "      *   Menentukan start iterasi, lalu mengambil huruf dengan kelipatan jumlah kolom dan disimpan suatu array. Contoh : misalkan ada tiga kolom, array pertama menyimpan huruf indexs ke 0, 3, 6, dst; array kedua menyimpan huruf index ke 1, 4, 7, dst, array ketiga menyimpan huruf index ke 2, 5, 8, dst.\n",
        "      *   Menggabungkan huruf yang tersimpan di masing-masing array dari indexs array terkecil\n",
        "\n",
        "2.   Algoritma dekripsi\n",
        "\n",
        "      *   Berkebalikan dengan enskripsi, key dalam dekripsi akan dijadikan sebagai jumlah baris, sedangkan jumlah kolom adalah hasil pembulatan ke atas dari pembagian panjang pesan dan key.\n",
        "      *   Menentukan jumlah sel yang akan kosong, yaitu dari seluruh jumlah sel yang terbentuk di kurangi panjang huruf\n",
        "      *   Melakukan perulangan untuk setiap  karakter, menyimpan karakter berurutan untuk setiap kolom. Baris akan berpindah apabila kolom dalam satu baris sudah penuh, atau jika kolom masih tersisa satu, tapi baris lebih dari sama dengan jumlah sel yang kosong.\n",
        "      *   Setelah karakter habis, gabungkan array yang menyimpan huruf dalam satu kolom dari index terkecil.\n",
        "\n",
        "\n",
        "Baik untuk algoritma enkripsi dan dekripsi di atas, memiliki kompleksitas O(n+k). Hal ini disebabkan karena hal berikut.\n",
        "  1. Iterasi melalui setiap karakter dalam pesan membutuhkan waktu O(n), di mana n adalah panjang pesan.\n",
        "  2. Dalam iterasi, kita mengumpulkan karakter-karakter dalam array kolom, yang memiliki ukuran tetap sesuai dengan jumlah kolom. Oleh karena itu, mengumpulkan karakter-karakter ini dalam array kolom membutuhkan waktu konstan\n",
        "  3. Menggabungkan hasil dari array kolom menjadi satu string membutuhkan waktu O(k), di mana k adalah kunci.\n",
        "\n",
        "\n",
        "\n",
        "\n",
        "\n",
        "\n"
      ],
      "metadata": {
        "id": "Cat2jmdkZcBM"
      }
    },
    {
      "cell_type": "code",
      "source": [
        "# PROGRAM CHIPER SUBSTITUTION RESHUFULLE ALPHABET\n",
        "\n",
        "import random\n",
        "alphabet = 'abcdefghijklmnopqrstuvwxyz'\n",
        "\n",
        "def makeKey(alphabet):\n",
        "   alphabet = list(alphabet)\n",
        "   random.shuffle(alphabet)\n",
        "   return ''.join(alphabet)\n",
        "\n",
        "def encrypt(plaintext, key, alphabet):\n",
        "    keyMap = dict(zip(alphabet, key))\n",
        "    return ''.join(keyMap.get(c.lower(), c) for c in plaintext)\n",
        "\n",
        "def decrypt(cipher, key, alphabet):\n",
        "    keyMap = dict(zip(key, alphabet))\n",
        "    return ''.join(keyMap.get(c.lower(), c) for c in cipher)\n",
        "\n",
        "def main():\n",
        "  text = input(\"Masukkan Pesan : \")\n",
        "  mode = input(\"Enkripsi/Dekripsi [1/2]: \")\n",
        "  if(mode.lower() == \"1\"):\n",
        "    key = makeKey(alphabet)\n",
        "    result = encrypt(text, key, alphabet)\n",
        "  elif (mode.lower() == \"2\"):\n",
        "    key = (input(\"Masukkan KuncI: \"))\n",
        "    result = decrypt(text, key, alphabet)\n",
        "  print (\"\\nKey   : %s\" % key)\n",
        "  print (\"\\nHasil : \\n%s\" % (result + \"|\"))   # Menampilkan hasil dari enkripsi atau dekripsi, ditambahkan karakter | pada akhir string untuk melihat apakah terdapat spasi di paling belakang\n",
        "\n",
        "main()\n",
        "\n"
      ],
      "metadata": {
        "colab": {
          "base_uri": "https://localhost:8080/"
        },
        "id": "UqztPO6FoG3V",
        "outputId": "1c02fd48-79d2-4695-8fd9-cd99b7d6a1de"
      },
      "execution_count": 10,
      "outputs": [
        {
          "output_type": "stream",
          "name": "stdout",
          "text": [
            "Masukkan Pesan : worqsqt sqrqs, hqjpqj ryeq sqcqj !\n",
            "Enkripsi/Dekripsi [1/2]: 2\n",
            "Masukkan KuncI: qdliozpauhcrsjbefgwtymxknv\n",
            "\n",
            "Key   : qdliozpauhcrsjbefgwtymxknv\n",
            "\n",
            "Hasil : \n",
            "selamat malam, jangan lupa makan !|\n"
          ]
        }
      ]
    },
    {
      "cell_type": "markdown",
      "source": [
        "Program di atas merupakan program enkripsi dan dekripsi untku algoritma substitution dimana key yang diberikan adalah huruf pengganti dari setiap alphabet. algortima dari program di atas adalah\n",
        "\n",
        "\n",
        "\n",
        "1.   Algoritma Enkripsi\n",
        "\n",
        "    *   Membuat peta kunci dengan menggunakan fungsi zip() untuk menggabungkan setiap huruf dalam alphabet dengan huruf yang sesuai dalam key. Fungsi zip() membuat pasangan nilai dari alphabet dan key, dan fungsi dict() digunakan untuk mengonversi pasangan nilai ini menjadi  dictionary. Dictionary ini berisi pasangan nilai dengan huruf dari alphabet sebagai kunci dan huruf dari key sebagai nilai.\n",
        "\n",
        "    *   Lalu menggunakan enkripsi generator untuk menghasilkan karakter-karakter hasi enkripsi. Dimana setiap karakter plain text diambil satu persatu, lalu mengambil nilai dari dictionary berdasarkan key (karakter dari plain text), jika karakter bukan huruf  maka akan dipertahankan.\n",
        "    *   Menggabungkan setiap hasil enkripsi karakter dengan menggunakan join.\n",
        "\n",
        "2.   Algoritma Dekripsi\n",
        "\n",
        "    *   Algoritma sama dengan enkripsi, hanya saja untuk membuat dictionary peta kunci, yang menjadi key adalah key, sedangkan value nya adalah alphaber asli.  \n",
        "\n",
        "\n",
        "\n",
        "Kedua algoritma di atas melakukan iterasi melalui setiap karakter dalam teks yang diberikan, dan operasi-operasi yang dilakukan di dalam loop tersebut (seperti dict(zip(...)), get(), lower(), join(), dan operasi untuk mengakses elemen dalam kamus) memerlukan waktu konstan. Jumlah iterasi dalam loop sesuai dengan panjang teks yang diberikan, sehingga kompleksitasnya bergantung pada panjang teks tersebut.\n",
        "\n",
        "Oleh karena itu, baik untuk enkripsi maupun dekripsi, kompleksitasnya adalah O(n), di mana n adalah panjang dari teks yang dienkripsi atau didekripsi.\n"
      ],
      "metadata": {
        "id": "9FV0_gudgXFJ"
      }
    },
    {
      "cell_type": "code",
      "source": [
        "# PROGRAM CAESAR CHIPPPER SUBSTITUION\n",
        "\n",
        "def encrypt(text,s):                                        # Mendefisnikan fungsi enkripsi\n",
        "    result = \"\"                                             # Inisiasi string untuk menyimpan hasil enkripsi\n",
        "    for i in range(len(text)):\n",
        "        char = text[i]\n",
        "        if (char.isupper()):\n",
        "            result += chr((ord(char) + s-65) % 26 + 65)     # Jika karakter merupakan huruf kapital, ubah dalam kode ASCII, geser sebasar s dan disesuaikan kembali untku tetap dalam rentang kode huruf kapital\n",
        "        elif (char.islower()):\n",
        "            result += chr((ord(char) + s - 97) % 26 + 97)   # Jika karakter merupakan huruf kecil, ubah dalam kode ASCII, geser sebasar s dan disesuaikan kembali untku tetap dalam rentang kode huruf kecil\n",
        "        else:\n",
        "            result += char                                  # jika spasi maka biarkan tetap spasi\n",
        "    return result\n",
        "\n",
        "def decrypt(text, s):\n",
        "    result = \"\"\n",
        "    for i in range(len(text)):\n",
        "        char = text[i]\n",
        "        if char.isupper():\n",
        "            result += chr((ord(char) - s - 65) % 26 + 65)   # Jika karakter merupakan huruf kapital, ubah dalam kode ASCII, geser sebasar s ke bawah dan disesuaikan kembali untku tetap dalam rentang kode huruf kapital\n",
        "        elif (char.islower()):\n",
        "            result += chr((ord(char) - s - 97) % 26 + 97)   # Jika karakter merupakan huruf kecil, ubah dalam kode ASCII, geser sebasar s ke bawah dan disesuaikan kembali untku tetap dalam rentang kode huruf kecil\n",
        "        else:\n",
        "            result += char                                  # jika spasi biarkan tetap spasi\n",
        "    return result\n",
        "\n",
        "def main():\n",
        "  text = input(\"Masukkan Pesan : \")\n",
        "  key = int(input(\"Masukkan Kunci (shift): \"))\n",
        "  mode = input(\"Enkripsi/Dekripsi [1/2]: \")\n",
        "  if(mode.lower() == \"1\"):\n",
        "    result = encrypt(text, key)\n",
        "  elif (mode.lower() == \"2\"):\n",
        "    result = decrypt(text, key)\n",
        "  print (\"\\nHasil : \\n%s\" % (result + \"|\"))                 # Menampilkan hasil dari enkripsi atau dekripsi, ditambahkan karakter | pada akhir string untuk melihat apakah terdapat spasi di paling belakang\n",
        "\n",
        "main()"
      ],
      "metadata": {
        "colab": {
          "base_uri": "https://localhost:8080/"
        },
        "id": "7R01VezAJHhM",
        "outputId": "45551a89-2df9-425a-efae-b19c6184d32f"
      },
      "execution_count": 8,
      "outputs": [
        {
          "output_type": "stream",
          "name": "stdout",
          "text": [
            "Masukkan Pesan : WIPEQEX QEPEQ, NERKER PYTE QEOER\n",
            "Masukkan Kunci (shift): 4\n",
            "Enkripsi/Dekripsi [1/2]: 2\n",
            "\n",
            "Hasil : \n",
            "SELAMAT MALAM, JANGAN LUPA MAKAN|\n"
          ]
        }
      ]
    },
    {
      "cell_type": "markdown",
      "source": [
        "Program di atas merupakan program enkripsi dan dekripsi untuk algoritma caesar subsitution. adapun cara kerja algoritma di atas adaalh sebagai berikut\n",
        "\n",
        "\n",
        "1.   Algoritma Enkripsi\n",
        "\n",
        "      *   Perulangan dilakukan untuk setiap karakter\n",
        "      *   Karakter akan di cek apakah merupakan huruf kapital, kecil, atau spasi. Jika huruf kapital, huruf akan digeser atau ditambah sebanayk shift (s) dan akan dikembalikan untuk tetap di rentang 0 - 26 dalam konteks huruf kapital (disesuaikan kode ASCII nya dengan ditambah 65). Jika huruf kecil, huruf akan digeser atau ditambah sebanyak shift (s) dan akan dikembalikan untuk tetap di rentang 0 - 26 dalam konteks huruf kecil (disesuaikan kode ASCII nya dengan ditambah 97). Jika spasi, akan dibarkan untuk tetap menjadi spasi.\n",
        "       *   Untuk setiap karakter yang sudah di ditambah, masukan ke dalam variabel string result.\n",
        "\n",
        "\n",
        "2.   Algoritma Dekripsi\n",
        "      *   Perulangan dilakukan untuk setiap karakter\n",
        "      *   Karakter akan di cek apakah merupakan huruf kapital, kecil, atau spasi. Jika huruf kapital, huruf akan  dikurangi sebanayk shift (s) dan akan dikembalikan untuk tetap di rentang 0 - 26 dalam konteks huruf kapital (disesuaikan kode ASCII nya dengan ditambah 65). Jika huruf kecil, huruf akan dikurangi sebanyak shift (s) dan akan dikembalikan untuk tetap di rentang 0 - 26 dalam konteks huruf kecil (disesuaikan kode ASCII nya dengan ditambah 97). Jika spasi, akan dibarkan untuk tetap menjadi spasi.\n",
        "       *   Untuk setiap karakter yang sudah di ditambah, masukan ke dalam variabel string result.\n",
        "       \n",
        "Baik fungsi encrypt maupun decrypt melalui setiap karakter dalam teks, dan operasi-operasi yang dilakukan di dalam loop tersebut (seperti ord, chr, dan operasi aritmatika) memerlukan waktu konstan. Jumlah iterasi dalam loop sesuai dengan panjang teks yang diberikan, sehingga kompleksitasnya bergantung pada panjang teks tersebut.\n",
        "\n",
        "Oleh karena itu, baik untuk enkripsi maupun dekripsi, kompleksitasnya adalah O(n), di mana n adalah panjang dari teks yang dienkripsi atau didekripsi.\n",
        "\n"
      ],
      "metadata": {
        "id": "UXLGC77peYaA"
      }
    }
  ]
}